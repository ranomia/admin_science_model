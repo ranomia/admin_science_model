{
  "cells": [
    {
      "cell_type": "raw",
      "metadata": {
        "vscode": {
          "languageId": "raw"
        }
      },
      "source": [
        "# 行政事業レビューデータ探索ノートブック\n",
        "\n",
        "このノートブックでは、行政事業レビューデータの基本的な探索と分析を行います。\n"
      ]
    },
    {
      "cell_type": "code",
      "execution_count": null,
      "metadata": {},
      "outputs": [],
      "source": [
        "import sys\n",
        "sys.path.append('../src')\n",
        "\n",
        "import pandas as pd\n",
        "import numpy as np\n",
        "import matplotlib.pyplot as plt\n",
        "import seaborn as sns\n",
        "import yaml\n",
        "from pathlib import Path\n",
        "\n",
        "from data.preprocessing import DataPreprocessor, setup_logging\n",
        "\n",
        "# 日本語フォント設定\n",
        "plt.rcParams['font.family'] = 'DejaVu Sans'\n",
        "sns.set_style(\"whitegrid\")\n",
        "\n",
        "# ログ設定\n",
        "setup_logging('INFO')\n",
        "\n",
        "print(\"ライブラリの読み込みが完了しました\")\n"
      ]
    }
  ],
  "metadata": {
    "language_info": {
      "name": "python"
    }
  },
  "nbformat": 4,
  "nbformat_minor": 2
}
